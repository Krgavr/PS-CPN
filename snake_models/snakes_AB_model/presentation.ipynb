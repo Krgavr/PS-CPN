{
 "cells": [
  {
   "cell_type": "markdown",
   "metadata": {},
   "source": [
    "# Petri Net Parser and Simulation\n",
    "This notebook demonstrates how to parse a Colored Petri Net (CPN) model, create a corresponding Petri net, and simulate the transition firing.\n"
   ]
  },
  {
   "cell_type": "code",
   "execution_count": 6,
   "metadata": {},
   "outputs": [],
   "source": [
    "from snakes.nets import PetriNet, Place, MultiSet, Transition, Expression, Variable, Tuple\n",
    "from snakes.plugins import load\n",
    "import re\n",
    "import sys\n",
    "import os\n",
    "\n",
    "load('gv', 'snakes.nets', 'nets')\n",
    "from nets import PetriNet, Place, Transition, Variable, Expression\n",
    "\n",
    "project_root = os.path.abspath(os.path.join(os.getcwd(), \"../..\"))\n",
    "sys.path.append(project_root)\n",
    "\n",
    "from main_code_function.functions_for_parsing import collect_all_data, load_cpn_file, get_page_block, get_globbox_block\n",
    "from main_code_function.snakes_engine_main import create_snakes_net, create_colset_functions\n"
   ]
  },
  {
   "cell_type": "markdown",
   "metadata": {},
   "source": [
    "Načítáme soubor modelu model_AB.cpn a extrahujeme informace o stránkách a globálních proměnných. Poté parsujeme všechna data.\n",
    "Zobrazujeme všechna parsovaná data pro ověření správnosti načtení a parsování."
   ]
  },
  {
   "cell_type": "code",
   "execution_count": 9,
   "metadata": {},
   "outputs": [
    {
     "name": "stdout",
     "output_type": "stream",
     "text": [
      "Data successfully loaded.\n",
      "\n",
      "=== Parsed Data ===\n",
      "{'arcs': [{'arc_id': 'ID1412338984',\n",
      "           'expression': '1`in1',\n",
      "           'order': '1',\n",
      "           'orientation': 'PtoT',\n",
      "           'placeend': 'ID1412338810',\n",
      "           'transend': 'ID1412338861'},\n",
      "          {'arc_id': 'ID1412339019',\n",
      "           'expression': '1`in2',\n",
      "           'order': '1',\n",
      "           'orientation': 'PtoT',\n",
      "           'placeend': 'ID1412338824',\n",
      "           'transend': 'ID1412338861'},\n",
      "          {'arc_id': 'ID1412339057',\n",
      "           'expression': '1`(in1,in2)',\n",
      "           'order': '1',\n",
      "           'orientation': 'TtoP',\n",
      "           'placeend': 'ID1412338841',\n",
      "           'transend': 'ID1412338861'}],\n",
      " 'colsets': [{'id': 'ID85042',\n",
      "              'index_values': None,\n",
      "              'layout': 'colset UNIT = unit;',\n",
      "              'name': 'UNIT',\n",
      "              'subtype': 'unit',\n",
      "              'subtype_contents': None},\n",
      "             {'id': 'ID4',\n",
      "              'index_values': None,\n",
      "              'layout': None,\n",
      "              'name': 'BOOL',\n",
      "              'subtype': 'bool',\n",
      "              'subtype_contents': None},\n",
      "             {'id': 'ID3',\n",
      "              'index_values': None,\n",
      "              'layout': None,\n",
      "              'name': 'INT',\n",
      "              'subtype': 'int',\n",
      "              'subtype_contents': None},\n",
      "             {'id': 'ID1412312409',\n",
      "              'index_values': None,\n",
      "              'layout': 'colset INTINF = intinf;',\n",
      "              'name': 'INTINF',\n",
      "              'subtype': 'intinf',\n",
      "              'subtype_contents': None},\n",
      "             {'id': 'ID1412312425',\n",
      "              'index_values': None,\n",
      "              'layout': 'colset TIME = time;',\n",
      "              'name': 'TIME',\n",
      "              'subtype': 'time',\n",
      "              'subtype_contents': None},\n",
      "             {'id': 'ID1412322990',\n",
      "              'index_values': None,\n",
      "              'layout': 'colset REAL = real;',\n",
      "              'name': 'REAL',\n",
      "              'subtype': 'real',\n",
      "              'subtype_contents': None},\n",
      "             {'id': 'ID5',\n",
      "              'index_values': None,\n",
      "              'layout': None,\n",
      "              'name': 'STRING',\n",
      "              'subtype': 'string',\n",
      "              'subtype_contents': None},\n",
      "             {'id': 'ID1412339196',\n",
      "              'index_values': None,\n",
      "              'layout': 'colset IN = with A | B;',\n",
      "              'name': 'IN',\n",
      "              'subtype': 'enum',\n",
      "              'subtype_contents': ['A', 'B']},\n",
      "             {'id': 'ID1412339435',\n",
      "              'index_values': None,\n",
      "              'layout': 'colset OUT = product IN*IN;',\n",
      "              'name': 'OUT',\n",
      "              'subtype': 'product',\n",
      "              'subtype_contents': ['IN', 'IN']}],\n",
      " 'functions': [],\n",
      " 'places': [{'initmark': '1`A++1`B',\n",
      "             'place_id': 'ID1412338810',\n",
      "             'text': 'P1',\n",
      "             'type': 'IN'},\n",
      "            {'initmark': '2`B',\n",
      "             'place_id': 'ID1412338824',\n",
      "             'text': 'P2',\n",
      "             'type': 'IN'},\n",
      "            {'initmark': None,\n",
      "             'place_id': 'ID1412338841',\n",
      "             'text': 'P3',\n",
      "             'type': 'OUT'}],\n",
      " 'transitions': [{'code': None,\n",
      "                  'condition': '[in1<>in2]',\n",
      "                  'priority': None,\n",
      "                  'text': 'T1',\n",
      "                  'time': None,\n",
      "                  'transition_id': 'ID1412338861'}],\n",
      " 'values': [],\n",
      " 'variables': [{'id': 'ID1412339308',\n",
      "                'layout': 'var in1, in2 : IN;',\n",
      "                'names': ['in1', 'in2'],\n",
      "                'type': 'IN'}]}\n"
     ]
    }
   ],
   "source": [
    "import pprint\n",
    "\n",
    "file_path = 'model_AB.cpn'\n",
    "root = load_cpn_file(file_path)\n",
    "page_block = get_page_block(root)\n",
    "globbox_block = get_globbox_block(root)\n",
    "data = collect_all_data(page_block, globbox_block)\n",
    "\n",
    "print(\"Data successfully loaded.\")\n",
    "\n",
    "\n",
    "print(\"\\n=== Parsed Data ===\")\n",
    "pprint.pprint(data)\n",
    "\n"
   ]
  },
  {
   "cell_type": "markdown",
   "metadata": {},
   "source": [
    "Vytváříme a zobrazujeme informace o barvách (Color Sets) použité v Petriho síti."
   ]
  },
  {
   "cell_type": "code",
   "execution_count": 10,
   "metadata": {},
   "outputs": [
    {
     "name": "stdout",
     "output_type": "stream",
     "text": [
      "\n",
      "=== Color Sets (Colsets) ===\n",
      "Colset Name: UNIT\n",
      "Type: unit\n",
      "----------------------------------------\n",
      "Colset Name: BOOL\n",
      "Type: bool\n",
      "----------------------------------------\n",
      "Colset Name: INT\n",
      "Type: int\n",
      "----------------------------------------\n",
      "Colset Name: INTINF\n",
      "Type: intinf\n",
      "----------------------------------------\n",
      "Colset Name: TIME\n",
      "Type: time\n",
      "----------------------------------------\n",
      "Colset Name: REAL\n",
      "Type: real\n",
      "----------------------------------------\n",
      "Colset Name: STRING\n",
      "Type: string\n",
      "----------------------------------------\n",
      "Colset Name: IN\n",
      "Type: enum\n",
      "Values: ['A', 'B']\n",
      "----------------------------------------\n",
      "Colset Name: OUT\n",
      "Type: product\n",
      "Product Types: ['IN', 'IN']\n",
      "----------------------------------------\n"
     ]
    }
   ],
   "source": [
    "colset_functions = create_colset_functions(data[\"colsets\"])\n",
    "\n",
    "print(\"\\n=== Color Sets (Colsets) ===\")\n",
    "for colset in data[\"colsets\"]:\n",
    "    print(f\"Colset Name: {colset['name']}\")\n",
    "    print(f\"Type: {colset['subtype']}\")\n",
    "    if colset[\"subtype\"] == \"enum\" and colset[\"subtype_contents\"]:\n",
    "        print(f\"Values: {colset['subtype_contents']}\")\n",
    "    elif colset[\"subtype\"] == \"product\" and colset[\"subtype_contents\"]:\n",
    "        print(f\"Product Types: {colset['subtype_contents']}\")\n",
    "    print(\"-\" * 40)\n"
   ]
  },
  {
   "cell_type": "markdown",
   "metadata": {},
   "source": [
    "Na základě parsovaných dat vytváříme Petriho síť a zobrazujeme informace o místech (places) a jejich počátečních tokenech.\n",
    "Generujeme obrázek aktuální Petriho sítě a zobrazujeme jej přímo v notebooku."
   ]
  },
  {
   "cell_type": "code",
   "execution_count": 11,
   "metadata": {},
   "outputs": [
    {
     "name": "stdout",
     "output_type": "stream",
     "text": [
      "=== Places and Tokens ===\n",
      "Place: P1, Tokens: ['A', 'B'], CheckType: IN\n",
      "Place: P2, Tokens: ['B', 'B'], CheckType: IN\n",
      "Place: P3, Tokens: [], CheckType: OUT\n"
     ]
    },
    {
     "data": {
      "image/png": "[encoded data removed]",
      "text/plain": [
       "<IPython.core.display.Image object>"
      ]
     },
     "execution_count": 11,
     "metadata": {},
     "output_type": "execute_result"
    }
   ],
   "source": [
    "net, places_info, variables = create_snakes_net(data, colset_functions)\n",
    "\n",
    "print(\"=== Places and Tokens ===\")\n",
    "for place_name, tokens, place_type in places_info:\n",
    "    print(f\"Place: {place_name}, Tokens: {list(tokens)}, CheckType: {place_type}\")\n",
    "\n",
    "net.draw(\"ex1.png\", engine=\"dot\")\n",
    "from IPython.display import Image\n",
    "Image(\"ex1.png\")\n"
   ]
  },
  {
   "cell_type": "markdown",
   "metadata": {},
   "source": [
    "Vypisujeme všechny přechody (transitions) a jejich vstupní a výstupní oblouky (arcs)."
   ]
  },
  {
   "cell_type": "code",
   "execution_count": 12,
   "metadata": {},
   "outputs": [
    {
     "name": "stdout",
     "output_type": "stream",
     "text": [
      "=== Transitions and Arcs ===\n",
      "Transition: T1, Guard: in1!=in2\n",
      "  Input Arc: P1 -> T1, Label: in1\n",
      "  Input Arc: P2 -> T1, Label: in2\n",
      "  Output Arc: T1 -> P3, Label: (in1, in2)\n"
     ]
    }
   ],
   "source": [
    "print(\"=== Transitions and Arcs ===\")\n",
    "for transition in net.transition():\n",
    "    print(f\"Transition: {transition.name}, Guard: {transition.guard}\")\n",
    "    for place, arc_label in transition.input():\n",
    "        print(f\"  Input Arc: {place.name} -> {transition.name}, Label: {arc_label}\")\n",
    "    for place, arc_label in transition.output():\n",
    "        print(f\"  Output Arc: {transition.name} -> {place.name}, Label: {arc_label}\")\n"
   ]
  },
  {
   "cell_type": "markdown",
   "metadata": {},
   "source": [
    "Zkoušíme spustit přechod T1, pokud je dostupný binding. Vypisujeme informace o bindingu a výsledku."
   ]
  },
  {
   "cell_type": "code",
   "execution_count": 13,
   "metadata": {},
   "outputs": [
    {
     "name": "stdout",
     "output_type": "stream",
     "text": [
      "Attempting to fire Transition: T1\n",
      "Possible bindings found: [Substitution(in1='A', in2='B'), Substitution(in1='A', in2='B')]\n",
      "Firing with binding: {in1 -> 'A', in2 -> 'B'}\n",
      "Transition 'T1' fired successfully with binding: {in1 -> 'A', in2 -> 'B'}\n"
     ]
    }
   ],
   "source": [
    "transition_name = \"T1\"\n",
    "print(f\"Attempting to fire Transition: {transition_name}\")\n",
    "\n",
    "try:\n",
    "    transition = net.transition(transition_name)\n",
    "    modes = transition.modes()\n",
    "    if modes:\n",
    "        print(f\"Possible bindings found: {modes}\")\n",
    "        for binding in modes:\n",
    "            print(f\"Firing with binding: {binding}\")\n",
    "            transition.fire(binding)\n",
    "            print(f\"Transition '{transition_name}' fired successfully with binding: {binding}\")\n",
    "            break\n",
    "    else:\n",
    "        print(f\"No available bindings for Transition '{transition_name}'\")\n",
    "except Exception as e:\n",
    "    print(f\"Error firing Transition '{transition_name}': {e}\")\n"
   ]
  },
  {
   "cell_type": "markdown",
   "metadata": {},
   "source": [
    "Zobrazujeme nový stav Petriho sítě po úspěšném spuštění přechodu a generujeme nový obrázek."
   ]
  },
  {
   "cell_type": "code",
   "execution_count": 14,
   "metadata": {},
   "outputs": [
    {
     "name": "stdout",
     "output_type": "stream",
     "text": [
      "\n",
      "Places and their tokens after fire:\n",
      "Place: P1, Tokens: ['B']\n",
      "Place: P2, Tokens: ['B']\n",
      "Place: P3, Tokens: [('A', 'B')]\n"
     ]
    },
    {
     "data": {
      "image/png": "[encoded data removed]",
      "text/plain": [
       "<IPython.core.display.Image object>"
      ]
     },
     "execution_count": 14,
     "metadata": {},
     "output_type": "execute_result"
    }
   ],
   "source": [
    "print(\"\\nPlaces and their tokens after fire:\")\n",
    "for place in net.place():\n",
    "    print(f\"Place: {place.name}, Tokens: {list(place.tokens)}\")\n",
    "\n",
    "net.draw(\"ex2.png\", engine=\"dot\")\n",
    "Image(\"ex2.png\")\n"
   ]
  }
 ],
 "metadata": {
  "kernelspec": {
   "display_name": ".venv",
   "language": "python",
   "name": "python3"
  },
  "language_info": {
   "codemirror_mode": {
    "name": "ipython",
    "version": 3
   },
   "file_extension": ".py",
   "mimetype": "text/x-python",
   "name": "python",
   "nbconvert_exporter": "python",
   "pygments_lexer": "ipython3",
   "version": "3.11.9"
  }
 },
 "nbformat": 4,
 "nbformat_minor": 2
}
